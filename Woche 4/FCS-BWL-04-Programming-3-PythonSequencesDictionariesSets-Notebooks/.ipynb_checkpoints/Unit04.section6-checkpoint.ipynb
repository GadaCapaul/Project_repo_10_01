{
 "cells": [
  {
   "cell_type": "markdown",
   "id": "a10f0c93",
   "metadata": {
    "slideshow": {
     "slide_type": "slide"
    }
   },
   "source": [
    "# Lecture 4\n",
    "# Section 6: A simple music player (with streamlit)¶"
   ]
  },
  {
   "cell_type": "markdown",
   "id": "43c4a3c2",
   "metadata": {},
   "source": [
    "Here we first build a very simple **Music Player** in the **Jupyter Notebook**, later we reuse the functionality within a very simple **Streamlit Music Player** app."
   ]
  },
  {
   "cell_type": "markdown",
   "id": "3f3f787b",
   "metadata": {
    "slideshow": {
     "slide_type": "slide"
    }
   },
   "source": [
    "## How to play a music file in Python? \n",
    "\n",
    "To find out, **how to play a music file in python**, I used Google. There very likely is a library to deal with music files in python already. It turned out, there are several.\n",
    "\n",
    "I started with the following thread on StackOverflow: https://stackoverflow.com/questions/20021457/playing-mp3-song-on-python\n",
    "\n",
    "After a bit of reading and testing, I pragmatically decided for `pygame`, see: https://www.pygame.org/docs/ref/music.html "
   ]
  },
  {
   "cell_type": "markdown",
   "id": "efada65f",
   "metadata": {
    "slideshow": {
     "slide_type": "slide"
    }
   },
   "source": [
    "### Let's install `pygame` first "
   ]
  },
  {
   "cell_type": "code",
   "execution_count": null,
   "id": "41553bb6",
   "metadata": {
    "slideshow": {
     "slide_type": "-"
    }
   },
   "outputs": [],
   "source": [
    "%pip install pygame"
   ]
  },
  {
   "cell_type": "markdown",
   "id": "e488c7c4",
   "metadata": {},
   "source": [
    "### and then import it together with a library for dealing with files and directories"
   ]
  },
  {
   "cell_type": "code",
   "execution_count": null,
   "id": "76a923ff",
   "metadata": {},
   "outputs": [],
   "source": [
    "from pygame import mixer # handling music files\n",
    "import glob # working with OS files and directories"
   ]
  },
  {
   "cell_type": "markdown",
   "id": "ef823171",
   "metadata": {
    "slideshow": {
     "slide_type": "slide"
    }
   },
   "source": [
    "### Ok, some quick and dirty test"
   ]
  },
  {
   "cell_type": "code",
   "execution_count": null,
   "id": "1cb2eb9e",
   "metadata": {},
   "outputs": [],
   "source": [
    "mixer.init()\n",
    "mixer.music.load('music/indian-trap.mp3')\n",
    "mixer.music.play()"
   ]
  },
  {
   "cell_type": "code",
   "execution_count": null,
   "id": "b7e8c7fd",
   "metadata": {},
   "outputs": [],
   "source": [
    "mixer.music.stop()"
   ]
  },
  {
   "cell_type": "markdown",
   "id": "fc06fa9f",
   "metadata": {
    "slideshow": {
     "slide_type": "slide"
    }
   },
   "source": [
    "### Let's make it a bit nicer: function definitions"
   ]
  },
  {
   "cell_type": "code",
   "execution_count": null,
   "id": "4b328cd9",
   "metadata": {},
   "outputs": [],
   "source": [
    "def get_tracks(folder='', file_type='mp3'):\n",
    "    \"\"\"Get all the media files, e.g. mp3 filed form a folder\"\"\"\n",
    "    \n",
    "    if not folder == '' and not folder.endswith('/'):\n",
    "        folder += '/'\n",
    "    \n",
    "    return glob.glob(f\"{folder}*.{file_type}\")"
   ]
  },
  {
   "cell_type": "code",
   "execution_count": null,
   "id": "e7d50a4d",
   "metadata": {},
   "outputs": [],
   "source": [
    "def list_tracks(folder='', file_type='mp3'):\n",
    "    \"\"\"List the found tracks nicely togerher with a track number\"\"\"\n",
    "    \n",
    "    tracks = get_tracks(folder, file_type)\n",
    "    \n",
    "    for track_number, track_title in enumerate(tracks): \n",
    "        # find out where to remove the folder name\n",
    "        # +1 to also get the last \"/\"\n",
    "        folder_len = len(folder) + 1 \n",
    "        \n",
    "        # find out where to remove the file suffix\n",
    "        # +1 to also get the leading \".\"\n",
    "        suffix_len = len(file_type) +1 \n",
    "        \n",
    "        # print the 2-digit track number plus title\n",
    "        print(f'{track_number + 1:02}. {track_title[folder_len:len(track_title)-suffix_len]}')"
   ]
  },
  {
   "cell_type": "code",
   "execution_count": null,
   "id": "b6f99b5b",
   "metadata": {},
   "outputs": [],
   "source": [
    "def play_track(folder='', track_number=1):\n",
    "    \"\"\"Play a certain track (with a number) from a folder\"\"\"\n",
    "    \n",
    "    track = get_tracks(folder='music/')[track_number - 1]\n",
    "    mixer.init()\n",
    "    mixer.music.load(track)\n",
    "    mixer.music.play()"
   ]
  },
  {
   "cell_type": "code",
   "execution_count": null,
   "id": "976d61fe",
   "metadata": {},
   "outputs": [],
   "source": [
    "def stop_playback():\n",
    "    \"\"\"If we don't want to listen to the entire track, we can also stop the playback\"\"\"\n",
    "    mixer.music.stop()"
   ]
  },
  {
   "cell_type": "markdown",
   "id": "f4ead10a",
   "metadata": {
    "slideshow": {
     "slide_type": "slide"
    }
   },
   "source": [
    "### Now, let's finally use our functions"
   ]
  },
  {
   "cell_type": "code",
   "execution_count": null,
   "id": "f23db81f",
   "metadata": {},
   "outputs": [],
   "source": [
    "list_tracks('music')"
   ]
  },
  {
   "cell_type": "code",
   "execution_count": null,
   "id": "16cee3e4",
   "metadata": {},
   "outputs": [],
   "source": [
    "play_track('music', 3)"
   ]
  },
  {
   "cell_type": "code",
   "execution_count": null,
   "id": "e5971f90",
   "metadata": {},
   "outputs": [],
   "source": [
    "stop_playback()"
   ]
  },
  {
   "cell_type": "markdown",
   "id": "f3d12984",
   "metadata": {
    "slideshow": {
     "slide_type": "slide"
    }
   },
   "source": [
    "### Now let's put it to a streamlit app"
   ]
  }
 ],
 "metadata": {
  "celltoolbar": "Slideshow",
  "kernelspec": {
   "display_name": "Python 3 (ipykernel)",
   "language": "python",
   "name": "python3"
  },
  "language_info": {
   "codemirror_mode": {
    "name": "ipython",
    "version": 3
   },
   "file_extension": ".py",
   "mimetype": "text/x-python",
   "name": "python",
   "nbconvert_exporter": "python",
   "pygments_lexer": "ipython3",
   "version": "3.11.8"
  }
 },
 "nbformat": 4,
 "nbformat_minor": 5
}
